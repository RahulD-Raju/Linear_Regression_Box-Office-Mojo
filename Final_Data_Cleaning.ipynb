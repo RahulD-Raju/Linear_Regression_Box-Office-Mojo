{
 "cells": [
  {
   "cell_type": "code",
   "execution_count": 1,
   "id": "26ae9cc3",
   "metadata": {},
   "outputs": [],
   "source": [
    "import pandas as pd"
   ]
  },
  {
   "cell_type": "code",
   "execution_count": 2,
   "id": "8032f74a",
   "metadata": {
    "scrolled": true
   },
   "outputs": [],
   "source": [
    "full_movie_df = pd.read_csv('./data/full_movie_df_3rd.csv')\n",
    "\n",
    "full_movie_df.set_index('movie_title', inplace=True)"
   ]
  },
  {
   "cell_type": "code",
   "execution_count": 5,
   "id": "d0daeb00",
   "metadata": {
    "scrolled": true
   },
   "outputs": [],
   "source": [
    "del full_movie_df['Unnamed: 0']"
   ]
  },
  {
   "cell_type": "markdown",
   "id": "6ea1827f",
   "metadata": {},
   "source": [
    "### STEP 1)  Insure all numerical features are appropriate data type"
   ]
  },
  {
   "cell_type": "code",
   "execution_count": 6,
   "id": "75261761",
   "metadata": {
    "scrolled": true
   },
   "outputs": [
    {
     "name": "stdout",
     "output_type": "stream",
     "text": [
      "<class 'pandas.core.frame.DataFrame'>\n",
      "Index: 10139 entries, Avatar to Queen Bees\n",
      "Data columns (total 15 columns):\n",
      " #   Column           Non-Null Count  Dtype  \n",
      "---  ------           --------------  -----  \n",
      " 0   link_stub        10139 non-null  object \n",
      " 1   worldwide_gross  10139 non-null  int64  \n",
      " 2   rating           10139 non-null  object \n",
      " 3   budget           6195 non-null   float64\n",
      " 4   runtime          9942 non-null   float64\n",
      " 5   release_date     10139 non-null  object \n",
      " 6   distributor      8640 non-null   object \n",
      " 7   genres           10138 non-null  object \n",
      " 8   director         10092 non-null  object \n",
      " 9   writer           9996 non-null   object \n",
      " 10  producer         9851 non-null   object \n",
      " 11  lead_actor_1     10110 non-null  object \n",
      " 12  lead_actor_2     10089 non-null  object \n",
      " 13  actor_3          10094 non-null  object \n",
      " 14  imdb_score       10139 non-null  float64\n",
      "dtypes: float64(3), int64(1), object(11)\n",
      "memory usage: 1.2+ MB\n"
     ]
    }
   ],
   "source": [
    "full_movie_df.info()"
   ]
  },
  {
   "cell_type": "code",
   "execution_count": 7,
   "id": "6fbd8544",
   "metadata": {},
   "outputs": [],
   "source": [
    "#The following columns are in need of conversion:\n",
    "#[domestic gross, release date]\n",
    "\n",
    "full_movie_df['worldwide_gross'] = full_movie_df['worldwide_gross'].astype(float)\n",
    "full_movie_df['release_date'] = pd.to_datetime(full_movie_df['release_date'])"
   ]
  },
  {
   "cell_type": "code",
   "execution_count": 8,
   "id": "431d5524",
   "metadata": {
    "scrolled": true
   },
   "outputs": [
    {
     "name": "stdout",
     "output_type": "stream",
     "text": [
      "<class 'pandas.core.frame.DataFrame'>\n",
      "Index: 10139 entries, Avatar to Queen Bees\n",
      "Data columns (total 15 columns):\n",
      " #   Column           Non-Null Count  Dtype         \n",
      "---  ------           --------------  -----         \n",
      " 0   link_stub        10139 non-null  object        \n",
      " 1   worldwide_gross  10139 non-null  float64       \n",
      " 2   rating           10139 non-null  object        \n",
      " 3   budget           6195 non-null   float64       \n",
      " 4   runtime          9942 non-null   float64       \n",
      " 5   release_date     10139 non-null  datetime64[ns]\n",
      " 6   distributor      8640 non-null   object        \n",
      " 7   genres           10138 non-null  object        \n",
      " 8   director         10092 non-null  object        \n",
      " 9   writer           9996 non-null   object        \n",
      " 10  producer         9851 non-null   object        \n",
      " 11  lead_actor_1     10110 non-null  object        \n",
      " 12  lead_actor_2     10089 non-null  object        \n",
      " 13  actor_3          10094 non-null  object        \n",
      " 14  imdb_score       10139 non-null  float64       \n",
      "dtypes: datetime64[ns](1), float64(4), object(10)\n",
      "memory usage: 1.2+ MB\n"
     ]
    }
   ],
   "source": [
    "full_movie_df.info()"
   ]
  },
  {
   "cell_type": "markdown",
   "id": "57437f23",
   "metadata": {},
   "source": [
    "### Step 2) Insure no duplicates"
   ]
  },
  {
   "cell_type": "code",
   "execution_count": 9,
   "id": "392b3880",
   "metadata": {},
   "outputs": [
    {
     "data": {
      "text/html": [
       "<div>\n",
       "<style scoped>\n",
       "    .dataframe tbody tr th:only-of-type {\n",
       "        vertical-align: middle;\n",
       "    }\n",
       "\n",
       "    .dataframe tbody tr th {\n",
       "        vertical-align: top;\n",
       "    }\n",
       "\n",
       "    .dataframe thead th {\n",
       "        text-align: right;\n",
       "    }\n",
       "</style>\n",
       "<table border=\"1\" class=\"dataframe\">\n",
       "  <thead>\n",
       "    <tr style=\"text-align: right;\">\n",
       "      <th></th>\n",
       "      <th>index</th>\n",
       "      <th>link_stub</th>\n",
       "      <th>worldwide_gross</th>\n",
       "    </tr>\n",
       "  </thead>\n",
       "  <tbody>\n",
       "    <tr>\n",
       "      <th>0</th>\n",
       "      <td>0</td>\n",
       "      <td>/title/tt0032138/?ref_=bo_cso_table_115</td>\n",
       "      <td>1</td>\n",
       "    </tr>\n",
       "    <tr>\n",
       "      <th>6762</th>\n",
       "      <td>6762</td>\n",
       "      <td>/title/tt1298649/?ref_=bo_cso_table_100</td>\n",
       "      <td>1</td>\n",
       "    </tr>\n",
       "    <tr>\n",
       "      <th>6755</th>\n",
       "      <td>6755</td>\n",
       "      <td>/title/tt1292703/?ref_=bo_cso_table_83</td>\n",
       "      <td>1</td>\n",
       "    </tr>\n",
       "    <tr>\n",
       "      <th>6756</th>\n",
       "      <td>6756</td>\n",
       "      <td>/title/tt1293847/?ref_=bo_cso_table_14</td>\n",
       "      <td>1</td>\n",
       "    </tr>\n",
       "    <tr>\n",
       "      <th>6757</th>\n",
       "      <td>6757</td>\n",
       "      <td>/title/tt1294213/?ref_=bo_cso_table_119</td>\n",
       "      <td>1</td>\n",
       "    </tr>\n",
       "  </tbody>\n",
       "</table>\n",
       "</div>"
      ],
      "text/plain": [
       "      index                                link_stub  worldwide_gross\n",
       "0         0  /title/tt0032138/?ref_=bo_cso_table_115                1\n",
       "6762   6762  /title/tt1298649/?ref_=bo_cso_table_100                1\n",
       "6755   6755   /title/tt1292703/?ref_=bo_cso_table_83                1\n",
       "6756   6756   /title/tt1293847/?ref_=bo_cso_table_14                1\n",
       "6757   6757  /title/tt1294213/?ref_=bo_cso_table_119                1"
      ]
     },
     "execution_count": 9,
     "metadata": {},
     "output_type": "execute_result"
    }
   ],
   "source": [
    "full_movie_df.groupby('link_stub')['worldwide_gross']\\\n",
    "            .count().reset_index()\\\n",
    "            .reset_index()\\\n",
    "            .sort_values('worldwide_gross', ascending=False).head()"
   ]
  },
  {
   "cell_type": "markdown",
   "id": "a118490d",
   "metadata": {},
   "source": [
    "### Step 3) Missing Values"
   ]
  },
  {
   "cell_type": "markdown",
   "id": "508b6aea",
   "metadata": {},
   "source": [
    "###### Still significant number of missing budget info from foreign, independent and old movies"
   ]
  },
  {
   "cell_type": "markdown",
   "id": "21ae46d5",
   "metadata": {},
   "source": [
    "#### Will try one regression iteration with dropping all rows and another by using median"
   ]
  },
  {
   "cell_type": "code",
   "execution_count": 10,
   "id": "77b40794",
   "metadata": {},
   "outputs": [],
   "source": [
    "\n",
    "\n",
    "full_movie_df.dropna(inplace=True)"
   ]
  },
  {
   "cell_type": "code",
   "execution_count": 12,
   "id": "43ed0561",
   "metadata": {
    "scrolled": true
   },
   "outputs": [
    {
     "name": "stdout",
     "output_type": "stream",
     "text": [
      "<class 'pandas.core.frame.DataFrame'>\n",
      "Index: 5782 entries, Avatar to Rich Kids\n",
      "Data columns (total 15 columns):\n",
      " #   Column           Non-Null Count  Dtype         \n",
      "---  ------           --------------  -----         \n",
      " 0   link_stub        5782 non-null   object        \n",
      " 1   worldwide_gross  5782 non-null   float64       \n",
      " 2   rating           5782 non-null   object        \n",
      " 3   budget           5782 non-null   float64       \n",
      " 4   runtime          5782 non-null   float64       \n",
      " 5   release_date     5782 non-null   datetime64[ns]\n",
      " 6   distributor      5782 non-null   object        \n",
      " 7   genres           5782 non-null   object        \n",
      " 8   director         5782 non-null   object        \n",
      " 9   writer           5782 non-null   object        \n",
      " 10  producer         5782 non-null   object        \n",
      " 11  lead_actor_1     5782 non-null   object        \n",
      " 12  lead_actor_2     5782 non-null   object        \n",
      " 13  actor_3          5782 non-null   object        \n",
      " 14  imdb_score       5782 non-null   float64       \n",
      "dtypes: datetime64[ns](1), float64(4), object(10)\n",
      "memory usage: 722.8+ KB\n"
     ]
    }
   ],
   "source": [
    "full_movie_df.info()"
   ]
  },
  {
   "cell_type": "markdown",
   "id": "624bea8f",
   "metadata": {},
   "source": [
    "### Step 4) Identify Outliers"
   ]
  },
  {
   "cell_type": "code",
   "execution_count": 13,
   "id": "69c833ca",
   "metadata": {},
   "outputs": [],
   "source": [
    "import matplotlib.pyplot as plt\n",
    "%matplotlib inline\n",
    "\n",
    "import seaborn as sns"
   ]
  },
  {
   "cell_type": "code",
   "execution_count": 14,
   "id": "5b60f860",
   "metadata": {
    "scrolled": true
   },
   "outputs": [
    {
     "data": {
      "text/html": [
       "<div>\n",
       "<style scoped>\n",
       "    .dataframe tbody tr th:only-of-type {\n",
       "        vertical-align: middle;\n",
       "    }\n",
       "\n",
       "    .dataframe tbody tr th {\n",
       "        vertical-align: top;\n",
       "    }\n",
       "\n",
       "    .dataframe thead th {\n",
       "        text-align: right;\n",
       "    }\n",
       "</style>\n",
       "<table border=\"1\" class=\"dataframe\">\n",
       "  <thead>\n",
       "    <tr style=\"text-align: right;\">\n",
       "      <th></th>\n",
       "      <th>worldwide_gross</th>\n",
       "      <th>budget</th>\n",
       "      <th>runtime</th>\n",
       "      <th>imdb_score</th>\n",
       "    </tr>\n",
       "  </thead>\n",
       "  <tbody>\n",
       "    <tr>\n",
       "      <th>count</th>\n",
       "      <td>5.782000e+03</td>\n",
       "      <td>5.782000e+03</td>\n",
       "      <td>5782.000000</td>\n",
       "      <td>5782.000000</td>\n",
       "    </tr>\n",
       "    <tr>\n",
       "      <th>mean</th>\n",
       "      <td>9.984865e+07</td>\n",
       "      <td>3.497731e+07</td>\n",
       "      <td>108.647873</td>\n",
       "      <td>6.371792</td>\n",
       "    </tr>\n",
       "    <tr>\n",
       "      <th>std</th>\n",
       "      <td>1.821268e+08</td>\n",
       "      <td>4.061162e+07</td>\n",
       "      <td>18.769135</td>\n",
       "      <td>0.997722</td>\n",
       "    </tr>\n",
       "    <tr>\n",
       "      <th>min</th>\n",
       "      <td>1.856122e+06</td>\n",
       "      <td>1.800000e+01</td>\n",
       "      <td>63.000000</td>\n",
       "      <td>1.400000</td>\n",
       "    </tr>\n",
       "    <tr>\n",
       "      <th>25%</th>\n",
       "      <td>1.208516e+07</td>\n",
       "      <td>1.000000e+07</td>\n",
       "      <td>96.000000</td>\n",
       "      <td>5.800000</td>\n",
       "    </tr>\n",
       "    <tr>\n",
       "      <th>50%</th>\n",
       "      <td>3.598754e+07</td>\n",
       "      <td>2.000000e+07</td>\n",
       "      <td>105.000000</td>\n",
       "      <td>6.400000</td>\n",
       "    </tr>\n",
       "    <tr>\n",
       "      <th>75%</th>\n",
       "      <td>1.050140e+08</td>\n",
       "      <td>4.200000e+07</td>\n",
       "      <td>118.000000</td>\n",
       "      <td>7.100000</td>\n",
       "    </tr>\n",
       "    <tr>\n",
       "      <th>max</th>\n",
       "      <td>2.847246e+09</td>\n",
       "      <td>3.560000e+08</td>\n",
       "      <td>271.000000</td>\n",
       "      <td>9.300000</td>\n",
       "    </tr>\n",
       "  </tbody>\n",
       "</table>\n",
       "</div>"
      ],
      "text/plain": [
       "       worldwide_gross        budget      runtime   imdb_score\n",
       "count     5.782000e+03  5.782000e+03  5782.000000  5782.000000\n",
       "mean      9.984865e+07  3.497731e+07   108.647873     6.371792\n",
       "std       1.821268e+08  4.061162e+07    18.769135     0.997722\n",
       "min       1.856122e+06  1.800000e+01    63.000000     1.400000\n",
       "25%       1.208516e+07  1.000000e+07    96.000000     5.800000\n",
       "50%       3.598754e+07  2.000000e+07   105.000000     6.400000\n",
       "75%       1.050140e+08  4.200000e+07   118.000000     7.100000\n",
       "max       2.847246e+09  3.560000e+08   271.000000     9.300000"
      ]
     },
     "execution_count": 14,
     "metadata": {},
     "output_type": "execute_result"
    }
   ],
   "source": [
    "full_movie_df.describe()"
   ]
  },
  {
   "cell_type": "code",
   "execution_count": 15,
   "id": "e156a9b1",
   "metadata": {
    "scrolled": true
   },
   "outputs": [
    {
     "name": "stderr",
     "output_type": "stream",
     "text": [
      "/Users/rahulraju/opt/anaconda3/envs/metis/lib/python3.8/site-packages/seaborn/_decorators.py:36: FutureWarning: Pass the following variable as a keyword arg: x. From version 0.12, the only valid positional argument will be `data`, and passing other arguments without an explicit keyword will result in an error or misinterpretation.\n",
      "  warnings.warn(\n"
     ]
    },
    {
     "data": {
      "text/plain": [
       "<AxesSubplot:xlabel='worldwide_gross'>"
      ]
     },
     "execution_count": 15,
     "metadata": {},
     "output_type": "execute_result"
    },
    {
     "data": {
      "image/png": "[encoded data removed]",
      "text/plain": [
       "<Figure size 432x288 with 1 Axes>"
      ]
     },
     "metadata": {
      "needs_background": "light"
     },
     "output_type": "display_data"
    }
   ],
   "source": [
    "# 1) worldwide gross - lots of outliers as expected, will determine...\n",
    "#... what to do as we go through each iteration of the regression\n",
    "\n",
    "sns.boxplot(full_movie_df['worldwide_gross'])\n"
   ]
  },
  {
   "cell_type": "code",
   "execution_count": 16,
   "id": "c74073fb",
   "metadata": {},
   "outputs": [
    {
     "name": "stderr",
     "output_type": "stream",
     "text": [
      "/Users/rahulraju/opt/anaconda3/envs/metis/lib/python3.8/site-packages/seaborn/_decorators.py:36: FutureWarning: Pass the following variable as a keyword arg: x. From version 0.12, the only valid positional argument will be `data`, and passing other arguments without an explicit keyword will result in an error or misinterpretation.\n",
      "  warnings.warn(\n"
     ]
    },
    {
     "data": {
      "text/plain": [
       "<AxesSubplot:xlabel='budget'>"
      ]
     },
     "execution_count": 16,
     "metadata": {},
     "output_type": "execute_result"
    },
    {
     "data": {
      "image/png": "[encoded data removed]",
      "text/plain": [
       "<Figure size 432x288 with 1 Axes>"
      ]
     },
     "metadata": {
      "needs_background": "light"
     },
     "output_type": "display_data"
    }
   ],
   "source": [
    "# 2) budget - a few outliers as expected, will determine...\n",
    "#... what to do as we go through each iteration of the regression\n",
    "\n",
    "sns.boxplot(full_movie_df['budget'])"
   ]
  },
  {
   "cell_type": "code",
   "execution_count": 17,
   "id": "70ec19e9",
   "metadata": {},
   "outputs": [
    {
     "name": "stderr",
     "output_type": "stream",
     "text": [
      "/Users/rahulraju/opt/anaconda3/envs/metis/lib/python3.8/site-packages/seaborn/_decorators.py:36: FutureWarning: Pass the following variable as a keyword arg: x. From version 0.12, the only valid positional argument will be `data`, and passing other arguments without an explicit keyword will result in an error or misinterpretation.\n",
      "  warnings.warn(\n"
     ]
    },
    {
     "data": {
      "text/plain": [
       "<AxesSubplot:xlabel='runtime'>"
      ]
     },
     "execution_count": 17,
     "metadata": {},
     "output_type": "execute_result"
    },
    {
     "data": {
      "image/png": "[encoded data removed]",
      "text/plain": [
       "<Figure size 432x288 with 1 Axes>"
      ]
     },
     "metadata": {
      "needs_background": "light"
     },
     "output_type": "display_data"
    }
   ],
   "source": [
    "# 3) runtime - a few outliers as expected, will determine...\n",
    "#... what to do as we go through each iteration of the regression\n",
    "sns.boxplot(full_movie_df['runtime'])"
   ]
  },
  {
   "cell_type": "code",
   "execution_count": 18,
   "id": "0b609c6a",
   "metadata": {},
   "outputs": [
    {
     "name": "stderr",
     "output_type": "stream",
     "text": [
      "/Users/rahulraju/opt/anaconda3/envs/metis/lib/python3.8/site-packages/seaborn/_decorators.py:36: FutureWarning: Pass the following variable as a keyword arg: x. From version 0.12, the only valid positional argument will be `data`, and passing other arguments without an explicit keyword will result in an error or misinterpretation.\n",
      "  warnings.warn(\n"
     ]
    },
    {
     "data": {
      "text/plain": [
       "<AxesSubplot:xlabel='imdb_score'>"
      ]
     },
     "execution_count": 18,
     "metadata": {},
     "output_type": "execute_result"
    },
    {
     "data": {
      "image/png": "[encoded data removed]",
      "text/plain": [
       "<Figure size 432x288 with 1 Axes>"
      ]
     },
     "metadata": {
      "needs_background": "light"
     },
     "output_type": "display_data"
    }
   ],
   "source": [
    "## ) imdb_score - a few outliers as expected, will determine...\n",
    "#... what to do as we go through each iteration of the regression\n",
    "sns.boxplot(full_movie_df['imdb_score'])"
   ]
  },
  {
   "cell_type": "code",
   "execution_count": 22,
   "id": "04934288",
   "metadata": {
    "scrolled": true
   },
   "outputs": [
    {
     "name": "stdout",
     "output_type": "stream",
     "text": [
      "<class 'pandas.core.frame.DataFrame'>\n",
      "Index: 5782 entries, Avatar to Rich Kids\n",
      "Data columns (total 15 columns):\n",
      " #   Column           Non-Null Count  Dtype         \n",
      "---  ------           --------------  -----         \n",
      " 0   link_stub        5782 non-null   object        \n",
      " 1   worldwide_gross  5782 non-null   float64       \n",
      " 2   rating           5782 non-null   object        \n",
      " 3   budget           5782 non-null   float64       \n",
      " 4   runtime          5782 non-null   float64       \n",
      " 5   release_date     5782 non-null   datetime64[ns]\n",
      " 6   distributor      5782 non-null   object        \n",
      " 7   genres           5782 non-null   object        \n",
      " 8   director         5782 non-null   object        \n",
      " 9   writer           5782 non-null   object        \n",
      " 10  producer         5782 non-null   object        \n",
      " 11  lead_actor_1     5782 non-null   object        \n",
      " 12  lead_actor_2     5782 non-null   object        \n",
      " 13  actor_3          5782 non-null   object        \n",
      " 14  imdb_score       5782 non-null   float64       \n",
      "dtypes: datetime64[ns](1), float64(4), object(10)\n",
      "memory usage: 722.8+ KB\n"
     ]
    }
   ],
   "source": [
    "\n",
    "full_movie_df.info()"
   ]
  },
  {
   "cell_type": "code",
   "execution_count": 24,
   "id": "c0e7f4c1",
   "metadata": {},
   "outputs": [
    {
     "name": "stderr",
     "output_type": "stream",
     "text": [
      "/Users/rahulraju/opt/anaconda3/envs/metis/lib/python3.8/site-packages/seaborn/distributions.py:2557: FutureWarning: `distplot` is a deprecated function and will be removed in a future version. Please adapt your code to use either `displot` (a figure-level function with similar flexibility) or `histplot` (an axes-level function for histograms).\n",
      "  warnings.warn(msg, FutureWarning)\n"
     ]
    },
    {
     "data": {
      "text/plain": [
       "<AxesSubplot:xlabel='worldwide_gross', ylabel='Density'>"
      ]
     },
     "execution_count": 24,
     "metadata": {},
     "output_type": "execute_result"
    },
    {
     "data": {
      "image/png": "[encoded data removed]",
      "text/plain": [
       "<Figure size 432x288 with 1 Axes>"
      ]
     },
     "metadata": {
      "needs_background": "light"
     },
     "output_type": "display_data"
    }
   ],
   "source": [
    "sns.distplot(full_movie_df['worldwide_gross'])"
   ]
  },
  {
   "cell_type": "code",
   "execution_count": 21,
   "id": "37ef2bad",
   "metadata": {},
   "outputs": [],
   "source": [
    "# We have our cleaned data frame(so far):  \"cleaned_movie_df\"\n",
    "\n",
    "full_movie_df.to_csv('./data/cleaned_movie_df_3rd.csv')"
   ]
  },
  {
   "cell_type": "code",
   "execution_count": null,
   "id": "7e92c32e",
   "metadata": {},
   "outputs": [],
   "source": []
  }
 ],
 "metadata": {
  "kernelspec": {
   "display_name": "Python [conda env:metis] *",
   "language": "python",
   "name": "conda-env-metis-py"
  },
  "language_info": {
   "codemirror_mode": {
    "name": "ipython",
    "version": 3
   },
   "file_extension": ".py",
   "mimetype": "text/x-python",
   "name": "python",
   "nbconvert_exporter": "python",
   "pygments_lexer": "ipython3",
   "version": "3.8.10"
  }
 },
 "nbformat": 4,
 "nbformat_minor": 5
}
